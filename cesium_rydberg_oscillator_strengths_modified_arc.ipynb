{
 "cells": [
  {
   "cell_type": "markdown",
   "metadata": {},
   "source": [
    "# Oscillator Strengths with Modified ARC\n",
    "*Ognjen Markovic and Monika Schleier-Smith (January, 2021)*"
   ]
  },
  {
   "cell_type": "code",
   "execution_count": 1,
   "metadata": {
    "scrolled": true
   },
   "outputs": [],
   "source": [
    "# Configure the matplotlib graphics library and configure it to show \n",
    "\n",
    "# show figures inline in the notebook\n",
    "import matplotlib\n",
    "%matplotlib inline\n",
    "#matplotlib notebook\n",
    "import matplotlib.pyplot as plt  # Import library for direct plotting functions\n",
    "import numpy as np               # Import Numerical Python\n",
    "from IPython.core.display import display, HTML #Import HTML for formatting output\n",
    "from scipy.optimize import curve_fit\n",
    "from numpy.polynomial import polynomial as poly\n",
    "\n",
    "# NOTE: Uncomment following lines ONLY if you are not using installation via pip\n",
    "#import sys, os\n",
    "#rootDir = '/Dropbox/Research/Calculations/ARC/ARC-Alkali-Rydberg-Calculator-2.0.5' # e.g. '/Users/Username/Desktop/ARC-Alkali-Rydberg-Calculator'\n",
    "#sys.path.insert(0,rootDir)\n",
    "\n",
    "#matplotlib.__version__\n",
    "\n",
    "from arc import *                 #Import ARC (Alkali Rydberg Calculator)"
   ]
  },
  {
   "cell_type": "markdown",
   "metadata": {},
   "source": [
    "## About This Notebook ##\n",
    "\n",
    "This notebook tests a modified version of ARC in which I introduced two new parameters to the *getRadialMatrixElement* function:\n",
    "* *corePolRc* is the cutoff radius (in atomic units) for the correction to the radial matrix element in Eq. 19 of Marinescu et al., where it is called $r_c'$\n",
    "* *rmin* is the lower bound of integration (in atomic units) for calculating the radial matrix element.  The default value (which is set by the cube root of the polarizability) is too large, as Ogi noticed in his previous calculations\n",
    "\n",
    "A copy of the modified *getRadialMatrixElement* function is included at the end of this file for completeness (but I directly modified it in my version of ARC).\n",
    "\n",
    "### Notes on the modified *getRadialMatrixElement* function:###\n",
    "* Setting $r_c' = 0$, or not specifying $r_c'$ at all, makes the function ignore the core polarizability effect just as it usually would\n",
    "* Ordinarily the *getRadialMatrixElement* function is clever about not recalculating matrix elements that have already previously been calculated.  However, I treat $r_c' \\neq 0$ as a special case for which this functionality is ignored.  So if a nonzero value of $r_c'$ is specified, the matrix element is always recalculated; and if the matrix element has previously been calculated with $r_c' \\neq 0$ it will be recalculated in a subsequent call with $r_c' = 0$.\n",
    "* For the modification of *getRadialMatrixElement* to propagate all the way to ARC's calculation of Rabi frequencies, one would need to:\n",
    "    * ***Either*** modify a whole sequence of other functions: *getReducedMatrixElement*, *getDipoleMatrixElement*, *getRabiFrequency2*, and *getRabiFrequency* to include optional arguments *corePolRc* and *rmin*\n",
    "    * ***Or*** include *corePolRc* in the *alkali_atom_data* function that defines the properties of cesium (which already includes the model potential parameters from Marinescu) and change how *getRadialMatrixElement* sets *rmin*\n",
    "* Note that *corePolRc* (which I also sometimes call *rc* within this notebook) is called $r_c'$ in Marinescu et al., and is *not* the same as the $r_c$ that is tabulated in Marinescu and included in *alkali_atom_data* to parameterize the core potential.\n",
    "* Also, as the analysis below will show, whereas Marinescu gives a value $r_c' = 4.916\\dots$ to empirically fit polarizability data, we find here that fitting oscillator strength values from the literature requires a value $r_c' = 3.41(1)$.\n",
    "\n",
    "### References ###\n",
    "* M. Marinescu, H. R. Sadeghpour, and A. Dalgarno, *PRA* **49**, 982 (1994), https://doi.org/10.1103/PhysRevA.49.982\n",
    "* J. Migdalek and Y.-K. Kim, *J. Phys. B* **31**, 1947 (1998), https://doi-org.stanford.idm.oclc.org/10.1088/0953-4075/31/9/011\n",
    "* J. M. Raimond, M. Gross, C. Fabre, S. Haroche, and H H Stroke, *J. Phys. B* **11**, L765 (1978), https://doi-org.stanford.idm.oclc.org/10.1088/0022-3700/11/24/004\n",
    "* G. Pichler, *Journal of Quantitative Spectroscopy and Radiative Transfer* **16**, 147 https://doi.org/10.1016/0022-4073(76)90096-0\n",
    "* A. M. Hankin, Y.-Y. Jau, L. P. Parazzoli, C. W. Chou, D. J. Armstrong, A. J. Landahl, and G. W. Biedermann, *PRA* **89**, 033416 (2014), https://doi-org.stanford.idm.oclc.org/10.1103/PhysRevA.89.033416"
   ]
  },
  {
   "cell_type": "code",
   "execution_count": 2,
   "metadata": {},
   "outputs": [
    {
     "data": {
      "text/plain": [
       "<matplotlib.legend.Legend at 0x7f7f9ad9d668>"
      ]
     },
     "execution_count": 2,
     "metadata": {},
     "output_type": "execute_result"
    },
    {
     "data": {
      "image/png": "[encoded data removed]",
      "text/plain": [
       "<Figure size 432x288 with 1 Axes>"
      ]
     },
     "metadata": {
      "needs_background": "light"
     },
     "output_type": "display_data"
    }
   ],
   "source": [
    "atom = Caesium()\n",
    "\n",
    "rcvals = np.linspace(0.1,6,60)\n",
    "rmin = 0.05\n",
    "rmeP32 = [abs(atom.getRadialMatrixElement(6,0,0.5,43,1,1.5,corePolRc=rc,rmin=rmin)) for rc in rcvals]\n",
    "rmeP12 = [abs(atom.getRadialMatrixElement(6,0,0.5,43,1,0.5,corePolRc=rc,rmin=rmin)) for rc in rcvals]\n",
    "\n",
    "plt.figure()\n",
    "plt.plot(rcvals,rmeP32,'ro',label=r\"$P_{3/2}$\")\n",
    "plt.plot(rcvals,rmeP12,'bo',label=r\"$P_{1/2}$\")\n",
    "#plt.plot(rcvals,rmeP32b,label=r\"$P_{3/2}$\")\n",
    "#plt.plot(rcvals,rmeP12b,label=r\"$P_{1/2}$\")\n",
    "plt.yscale(\"log\")\n",
    "plt.ylabel(\"|Radial Matrix Element|\")\n",
    "plt.xlabel(\"Core Polarizability Cutoff Radius\")\n",
    "plt.legend()"
   ]
  },
  {
   "cell_type": "code",
   "execution_count": 3,
   "metadata": {},
   "outputs": [],
   "source": [
    "def osc_strength(n,l,j,npp,lp,jp,rc=3.43,rmin=0.05,verbose=False):\n",
    "    rme = atom.getRadialMatrixElement(n,l,j,npp,lp,jp,corePolRc=rc,rmin=rmin)\n",
    "    Wlower = atom.getEnergy(n,l,j)/(2*atom.scaledRydbergConstant)\n",
    "    Wupper = atom.getEnergy(npp,lp,jp)/(2*atom.scaledRydbergConstant)\n",
    "    return (rme**2)*(2*jp+1)/(2*j+1)*2.0/9.0*(Wupper-Wlower)"
   ]
  },
  {
   "cell_type": "code",
   "execution_count": 4,
   "metadata": {},
   "outputs": [
    {
     "data": {
      "image/png": "[encoded data removed]",
      "text/plain": [
       "<Figure size 432x288 with 1 Axes>"
      ]
     },
     "metadata": {
      "needs_background": "light"
     },
     "output_type": "display_data"
    }
   ],
   "source": [
    "rcvals = np.linspace(0.05,6,60)\n",
    "rmin = 0.05\n",
    "oscP32 = [osc_strength(6,0,0.5,43,1,1.5,rc=rc,rmin=rmin) for rc in rcvals]\n",
    "oscP12 = [osc_strength(6,0,0.5,43,1,0.5,rc=rc,rmin=rmin) for rc in rcvals]\n",
    "\n",
    "plt.figure()\n",
    "plt.plot(rcvals,oscP32,'ro',label=r\"$P_{3/2}$\")\n",
    "plt.plot(rcvals,oscP12,'bo',label=r\"$P_{1/2}$\")\n",
    "plt.yscale(\"log\")\n",
    "plt.ylabel(\"Oscillator Strength\")\n",
    "plt.xlabel(\"Core Polarizability Cutoff Radius\")\n",
    "plt.legend()\n",
    "plt.grid()"
   ]
  },
  {
   "cell_type": "code",
   "execution_count": 5,
   "metadata": {},
   "outputs": [],
   "source": [
    "oscratios=np.genfromtxt(\"cs_osc_strength_ratios.csv\",delimiter=',')\n",
    "# From table in Migdalek & Kim, J. Phys. B: At. Mol. Opt. Phys. 31 (1998) 1947–1960,\n",
    "# referring to Pichler (1976) and Raimond (1978).\n",
    "# print(oscratios[:,0:2])"
   ]
  },
  {
   "cell_type": "code",
   "execution_count": 6,
   "metadata": {},
   "outputs": [
    {
     "data": {
      "image/png": "[encoded data removed]",
      "text/plain": [
       "<Figure size 432x288 with 1 Axes>"
      ]
     },
     "metadata": {
      "needs_background": "light"
     },
     "output_type": "display_data"
    }
   ],
   "source": [
    "nvals = np.arange(7,45,1)\n",
    "\n",
    "rc = 3.41\n",
    "osc_strength_ratio341 = [osc_strength(6,0,0.5,n,1,1.5,rc=rc,rmin=0.05)/osc_strength(6,0,0.5,n,1,0.5,rc=rc,rmin=0.05) for n in nvals]\n",
    "rc = 3.43\n",
    "osc_strength_ratio343 = [osc_strength(6,0,0.5,n,1,1.5,rc=rc,rmin=0.05)/osc_strength(6,0,0.5,n,1,0.5,rc=rc,rmin=0.05) for n in nvals]\n",
    "rc = 3.42\n",
    "osc_strength_ratio342 = [osc_strength(6,0,0.5,n,1,1.5,rc=rc,rmin=0.05)/osc_strength(6,0,0.5,n,1,0.5,rc=rc,rmin=0.05) for n in nvals]\n",
    "\n",
    "\n",
    "plt.figure()\n",
    "plt.semilogy(nvals,osc_strength_ratio341,label=r\"$r_c = 3.41$\")\n",
    "plt.semilogy(nvals,osc_strength_ratio342,label=r\"$r_c = 3.42$\")\n",
    "plt.semilogy(nvals,osc_strength_ratio343,label=r\"$r_c = 3.43$\")\n",
    "plt.semilogy(oscratios[:,0],oscratios[:,1],'ro')\n",
    "plt.ylabel(\"Oscillator Strength Ratio\")\n",
    "plt.xlabel(r\"Principal Quantum Number $n$\")\n",
    "plt.legend()\n",
    "plt.grid()"
   ]
  },
  {
   "cell_type": "markdown",
   "metadata": {},
   "source": [
    "Here we see that setting $r_c = 3.41$ gives good agreement with oscillator strengths quoted in the literature at $n=15$ (Pichler) and $n=84$ (Hankin), as well as matching the above curve of oscillator strength ratios reasonably well."
   ]
  },
  {
   "cell_type": "code",
   "execution_count": 7,
   "metadata": {},
   "outputs": [
    {
     "name": "stdout",
     "output_type": "stream",
     "text": [
      "2.013590371769097e-07\n",
      "2.4735537354564195e-05\n"
     ]
    }
   ],
   "source": [
    "rc=3.41\n",
    "\n",
    "print(osc_strength(6,0,0.5,15,1,0.5,rc=rc))\n",
    "print(osc_strength(6,0,0.5,15,1,1.5,rc=rc))\n",
    "# Pichler: 2.1e-7, 2.4e-5"
   ]
  },
  {
   "cell_type": "code",
   "execution_count": 8,
   "metadata": {},
   "outputs": [
    {
     "name": "stdout",
     "output_type": "stream",
     "text": [
      "1.996823211768531e-12\n",
      "5.278752908059023e-08\n"
     ]
    }
   ],
   "source": [
    "print(osc_strength(6,0,0.5,84,1,0.5,rc=rc))\n",
    "print(osc_strength(6,0,0.5,84,1,1.5,rc=rc))\n",
    "# Hankin: 2e-12, 6e-8"
   ]
  },
  {
   "cell_type": "code",
   "execution_count": 9,
   "metadata": {},
   "outputs": [
    {
     "name": "stdout",
     "output_type": "stream",
     "text": [
      "5.5320011778372784e-05\n",
      "5.595106815518477e-05\n"
     ]
    }
   ],
   "source": [
    "print(osc_strength(7,1,1.5,43,2,1.5,rc=0))\n",
    "print(osc_strength(7,1,1.5,43,2,1.5,rc=rc))"
   ]
  },
  {
   "cell_type": "code",
   "execution_count": 27,
   "metadata": {},
   "outputs": [
    {
     "data": {
      "image/png": "[encoded data removed]",
      "text/plain": [
       "<Figure size 504x504 with 1 Axes>"
      ]
     },
     "metadata": {
      "needs_background": "light"
     },
     "output_type": "display_data"
    }
   ],
   "source": [
    "nvals2=range(6,100)\n",
    "\n",
    "f3h = [osc_strength(6,0,0.5,n,1,1.5,rc=3.41) for n in nvals2]\n",
    "f1h = [osc_strength(6,0,0.5,n,1,0.5,rc=3.41) for n in nvals2]\n",
    "\n",
    "f3h_naive = [osc_strength(6,0,0.5,n,1,1.5,rc=0) for n in nvals2]\n",
    "f1h_naive = [osc_strength(6,0,0.5,n,1,0.5,rc=0) for n in nvals2]\n",
    "\n",
    "correction_factor_3 = [f3h[j]/f3h_naive[j] for j in range(len(f3h))]\n",
    "correction_factor_1 = [f1h[j]/f1h_naive[j] for j in range(len(f1h))]\n",
    "\n",
    "plt.figure(figsize=(7,7))\n",
    "\n",
    "plt.semilogy(nvals2,f3h,'ro',label=r'$6S_{1/2}\\rightarrow nP_{3/2}$ (corrected)')\n",
    "plt.semilogy(nvals2,f1h,'bo',label=r'$6S_{1/2}\\rightarrow nP_{1/2}$ (corrected)')\n",
    "\n",
    "plt.semilogy(nvals2,f3h_naive,'r.',label=r'$6S_{1/2}\\rightarrow nP_{3/2}$ (naive)')\n",
    "plt.semilogy(nvals2,f1h_naive,'b.',label=r'$6S_{1/2}\\rightarrow nP_{1/2}$ (naive)')\n",
    "\n",
    "plt.xlabel('Principle quantum number $n$',size=16)\n",
    "plt.ylabel(\"Oscillator strength $f$\",size=16)\n",
    "plt.legend(fontsize='x-large')\n",
    "plt.grid()\n",
    "\n",
    "plt.savefig(\"Cs_oscillator_strengths.pdf\")\n",
    "plt.savefig(\"Cs_oscillator_strengths.png\")"
   ]
  },
  {
   "cell_type": "code",
   "execution_count": 29,
   "metadata": {},
   "outputs": [
    {
     "data": {
      "image/png": "[encoded data removed]",
      "text/plain": [
       "<Figure size 504x504 with 1 Axes>"
      ]
     },
     "metadata": {
      "needs_background": "light"
     },
     "output_type": "display_data"
    }
   ],
   "source": [
    "### Plot the ratio of corrected oscillator strength (accounting for core polarizability)\n",
    "### to naive oscillator strength (as ordinarily implemented in ARC)\n",
    "\n",
    "plt.figure(figsize=(7,7))\n",
    "plt.loglog(nvals2,correction_factor_3,'ro',label=r'$6S_{1/2}\\rightarrow nP_{3/2}$')\n",
    "plt.loglog(nvals2,correction_factor_1,'bo',label=r'$6S_{1/2}\\rightarrow nP_{1/2}$')\n",
    "plt.ylabel(\"Correction Factor $f/f_\\mathrm{naive}$\",size=16)\n",
    "plt.xlabel('Principle quantum number $n$',size=16)\n",
    "plt.ylim(bottom=2e-5, top=4e0)\n",
    "plt.xlim(left=1e1,right=1e2)\n",
    "plt.legend(fontsize='x-large')\n",
    "plt.grid()\n",
    "\n",
    "#print(osc_strength(6,0,0.5,50,1,1.5,rc=3.41)/osc_strength(6,0,0.5,50,1,1.5,rc=0))\n",
    "#print(osc_strength(6,0,0.5,100,1,1.5,rc=3.41)/osc_strength(6,0,0.5,100,1,1.5,rc=0))\n",
    "\n",
    "plt.savefig(\"Cs_oscillator_strength_correction.png\")"
   ]
  },
  {
   "cell_type": "code",
   "execution_count": 81,
   "metadata": {},
   "outputs": [
    {
     "data": {
      "image/png": "[encoded data removed]",
      "text/plain": [
       "<Figure size 504x504 with 1 Axes>"
      ]
     },
     "metadata": {
      "needs_background": "light"
     },
     "output_type": "display_data"
    }
   ],
   "source": [
    "### For 7P_{3/2} -> nD transitions, the effect of core polarizability is negligible (as expected)\n",
    "\n",
    "nvals2=range(7,90)\n",
    "\n",
    "fPD52 = [osc_strength(7,1,1.5,n,2,2.5,rc=3.41) for n in nvals2]\n",
    "fPD32 = [osc_strength(7,1,1.5,n,2,1.5,rc=3.41) for n in nvals2]\n",
    "\n",
    "fPD52_naive = [osc_strength(7,1,1.5,n,2,2.5,rc=0) for n in nvals2]\n",
    "fPD32_naive = [osc_strength(7,1,1.5,n,2,1.5,rc=0) for n in nvals2]\n",
    "\n",
    "\n",
    "plt.figure(figsize=(7,7))\n",
    "\n",
    "plt.semilogy(nvals2,fPD52,'ro',alpha=0.25,label=r'$7P_{3/2}\\rightarrow nD_{5/2}$ (corrected)')\n",
    "plt.semilogy(nvals2,fPD32,'bo',alpha=0.25,label=r'$7P_{3/2}\\rightarrow nP_{3/2}$ (corrected)')\n",
    "\n",
    "plt.semilogy(nvals2,fPD52_naive,'rx',label=r'$7P_{3/2}\\rightarrow nD_{5/2}$ (naive)')\n",
    "plt.semilogy(nvals2,fPD32_naive,'bx',label=r'$7P_{3/2}\\rightarrow nP_{3/2}$ (naive)')\n",
    "\n",
    "plt.xlabel('Principle quantum number $n$',size=16)\n",
    "plt.ylabel(\"Oscillator strength $f$\",size=16)\n",
    "plt.legend(fontsize='x-large')\n",
    "plt.grid()\n",
    "\n",
    "plt.savefig(\"Cs_oscillator_strengths_7PnD.pdf\")\n",
    "plt.savefig(\"Cs_oscillator_strengths_7PnD.png\")"
   ]
  },
  {
   "cell_type": "markdown",
   "metadata": {},
   "source": [
    "# Modified *getRadialMatrixElement* Function for Reference"
   ]
  },
  {
   "cell_type": "code",
   "execution_count": 36,
   "metadata": {},
   "outputs": [],
   "source": [
    "### This is not really intended to be run in this notebook...just copied here for information.\n",
    "### Though I suppose one could alternatively redefine the function directly in the notebook\n",
    "\n",
    "def getRadialMatrixElement(self,n1,l1,j1,n2,l2,j2,useLiterature=True,corePolRc=0.0,rmin=0.05,verbose=False):\n",
    "        \"\"\"\n",
    "            Radial part of the dipole matrix element\n",
    "\n",
    "            Calculates :math:`\\\\int \\\\mathbf{d}r~R_{n_1,l_1,j_1}(r)\\cdot \\\n",
    "                R_{n_1,l_1,j_1}(r) \\cdot r^3`.\n",
    "\n",
    "            Args:\n",
    "                n1 (int): principal quantum number of state 1\n",
    "                l1 (int): orbital angular momentum of state 1\n",
    "                j1 (float): total angular momentum of state 1\n",
    "                n2 (int): principal quantum number of state 2\n",
    "                l2 (int): orbital angular momentum of state 2\n",
    "                j2 (float): total angular momentum of state 2\n",
    "\n",
    "            Returns:\n",
    "                float: dipole matrix element (:math:`a_0 e`).\n",
    "\n",
    "            Verbose option and corePolRc added by MSS\n",
    "        \"\"\"\n",
    "        dl = abs(l1-l2)\n",
    "        dj = abs(j2-j2)\n",
    "        if not(dl==1 and (dj<1.1)):\n",
    "            return 0\n",
    "\n",
    "        if (self.getEnergy(n1, l1, j1)>self.getEnergy(n2, l2, j2)):\n",
    "            temp = n1\n",
    "            n1 = n2\n",
    "            n2 = temp\n",
    "            temp = l1\n",
    "            l1 = l2\n",
    "            l2 = temp\n",
    "            temp = j1\n",
    "            j1 = j2\n",
    "            j2 = temp\n",
    "\n",
    "        n1 = int(n1)\n",
    "        n2 = int(n2)\n",
    "        l1 = int(l1)\n",
    "        l2 = int(l2)\n",
    "        j1_x2 = int(round(2*j1))\n",
    "        j2_x2 = int(round(2*j2))\n",
    "\n",
    "        if useLiterature:\n",
    "            # is there literature value for this DME? If there is, use the best one (smalles error)\n",
    "            self.c.execute('''SELECT dme FROM literatureDME WHERE\n",
    "             n1= ? AND l1 = ? AND j1_x2 = ? AND\n",
    "             n2 = ? AND l2 = ? AND j2_x2 = ?\n",
    "             ORDER BY errorEstimate ASC''',(n1,l1,j1_x2,n2,l2,j2_x2))\n",
    "            answer = self.c.fetchone()\n",
    "            if (answer):\n",
    "                # we did found literature value\n",
    "                if verbose: ##verbose option added by MSS\n",
    "                    print(\"Using Literature Value:\", answer[0])\n",
    "                return answer[0]\n",
    "\n",
    "\n",
    "        # was this calculated before? If it was, retrieve from memory\n",
    "        self.c.execute('''SELECT dme FROM dipoleME WHERE\n",
    "         n1= ? AND l1 = ? AND j1_x2 = ? AND\n",
    "         n2 = ? AND l2 = ? AND j2_x2 = ?''',(n1,l1,j1_x2,n2,l2,j2_x2))\n",
    "        dme = self.c.fetchone()\n",
    "        if (dme and corePolRc==0.0):\n",
    "            if verbose:\n",
    "                print(\"Using previously calculated value:\", dme[0])\n",
    "            return dme[0]\n",
    "\n",
    "        step = 0.001\n",
    "        r1,psi1_r1 = self.radialWavefunction(l1,0.5,j1,\\\n",
    "                                               self.getEnergy(n1, l1, j1)/27.211,\\\n",
    "                                               self.alphaC**(1/3.0),\\\n",
    "                                                2.0*n1*(n1+15.0), step)\n",
    "        r2,psi2_r2 = self.radialWavefunction(l2,0.5,j2,\\\n",
    "                                               self.getEnergy(n2, l2, j2)/27.211,\\\n",
    "                                               self.alphaC**(1/3.0),\\\n",
    "                                                2.0*n2*(n2+15.0), step)\n",
    "\n",
    "        upTo = min(len(r1),len(r2))\n",
    "\n",
    "        #############################\n",
    "        #############################\n",
    "        ## Code block added by MSS ##\n",
    "\n",
    "        if corePolRc != 0.0:\n",
    "            if verbose:\n",
    "                print(\"alphaC:\", self.alphaC)\n",
    "\n",
    "            #### Added because Ogi found that the default lower limit of integration is too high\n",
    "            rmin = min(rmin,self.alphaC**(1/3.0)) ### default (presumably from Marinescu?)\n",
    "            r1,psi1_r1 = self.radialWavefunction(l1,0.5,j1,\\\n",
    "                                               self.getEnergy(n1, l1, j1)/27.211,\\\n",
    "                                               rmin,\\\n",
    "                                                2.0*n1*(n1+15.0), step)\n",
    "            r2,psi2_r2 = self.radialWavefunction(l2,0.5,j2,\\\n",
    "                                               self.getEnergy(n2, l2, j2)/27.211,\\\n",
    "                                               rmin,\\\n",
    "                                                2.0*n2*(n2+15.0), step)\n",
    "\n",
    "            upTo = min(len(r1),len(r2))\n",
    "            #####################################################################################\n",
    "\n",
    "            rmod = [r*(1-(1-np.exp(-(r/corePolRc)**3))*self.alphaC/r**3) for r in r1]\n",
    "            dipoleElement = np.trapz(np.multiply(np.multiply(psi1_r1[0:upTo],psi2_r2[0:upTo]),\\\n",
    "                                           rmod[0:upTo]), x = r1[0:upTo])\n",
    "            return dipoleElement\n",
    "\n",
    "\n",
    "        #############################\n",
    "        #############################\n",
    "\n",
    "        # note that r1 and r2 change in same staps, starting from the same value\n",
    "        dipoleElement = np.trapz(np.multiply(np.multiply(psi1_r1[0:upTo],psi2_r2[0:upTo]),\\\n",
    "                                           r1[0:upTo]), x = r1[0:upTo])\n",
    "\n",
    "        self.c.execute(''' INSERT INTO dipoleME VALUES (?,?,?, ?,?,?, ?)''',\\\n",
    "                       [n1,l1,j1_x2,n2,l2,j2_x2, dipoleElement] )\n",
    "        self.conn.commit()\n",
    "\n",
    "        return dipoleElement\n"
   ]
  },
  {
   "cell_type": "code",
   "execution_count": null,
   "metadata": {},
   "outputs": [],
   "source": []
  }
 ],
 "metadata": {
  "anaconda-cloud": {},
  "kernelspec": {
   "display_name": "Python 3",
   "language": "python",
   "name": "python3"
  },
  "language_info": {
   "codemirror_mode": {
    "name": "ipython",
    "version": 3
   },
   "file_extension": ".py",
   "mimetype": "text/x-python",
   "name": "python",
   "nbconvert_exporter": "python",
   "pygments_lexer": "ipython3",
   "version": "3.7.3"
  },
  "nbpresent": {
   "slides": {
    "08f3ddbc-293d-45ba-b1cd-8e05fff6ed36": {
     "id": "08f3ddbc-293d-45ba-b1cd-8e05fff6ed36",
     "prev": "53d1ef95-32c4-4eb0-9b21-c42de1b77cee",
     "regions": {
      "2e207cae-5f9d-41dc-8c0f-06cf66df8cbf": {
       "attrs": {
        "height": 0.8,
        "width": 0.8,
        "x": 0.1,
        "y": 0.1
       },
       "content": {
        "cell": "3883d28d-03f0-4c06-a58b-7bad909d1c34",
        "part": "whole"
       },
       "id": "2e207cae-5f9d-41dc-8c0f-06cf66df8cbf"
      }
     }
    },
    "0cf10881-69f2-4d6d-bfdf-4d2ec3c86ce0": {
     "id": "0cf10881-69f2-4d6d-bfdf-4d2ec3c86ce0",
     "prev": "840d0eb6-3afd-4e43-9350-801fd23f1807",
     "regions": {
      "594daaf3-f5d0-4723-b36f-f2d2f92393f1": {
       "attrs": {
        "height": 0.8,
        "width": 0.8,
        "x": 0.1,
        "y": 0.1
       },
       "content": {
        "cell": "77ef944d-6eff-4967-a4b9-6c5a79a1ee41",
        "part": "whole"
       },
       "id": "594daaf3-f5d0-4723-b36f-f2d2f92393f1"
      }
     }
    },
    "1c83a5fd-62ce-4ebd-94fa-7e12f351dd27": {
     "id": "1c83a5fd-62ce-4ebd-94fa-7e12f351dd27",
     "prev": "2d3120be-2d28-41f2-8e53-b168ff8da3e0",
     "regions": {
      "35c91f26-540b-4414-bd08-cc2228c9f1a0": {
       "attrs": {
        "height": 1,
        "width": 1,
        "x": 0,
        "y": 0
       },
       "id": "35c91f26-540b-4414-bd08-cc2228c9f1a0"
      }
     }
    },
    "290a2c2d-d6e4-4064-ba60-2fa40bd5143c": {
     "id": "290a2c2d-d6e4-4064-ba60-2fa40bd5143c",
     "prev": "d02b4f15-7d6e-4c7e-93b8-6270c53b23df",
     "regions": {
      "fdc1cbf0-1c7b-4d8c-9d52-1613cf6103c7": {
       "attrs": {
        "height": 0.8,
        "width": 0.8,
        "x": 0.1,
        "y": 0.1
       },
       "content": {
        "cell": "3def8c65-56d0-4816-b955-331e0c5dca00",
        "part": "whole"
       },
       "id": "fdc1cbf0-1c7b-4d8c-9d52-1613cf6103c7"
      }
     }
    },
    "2d3120be-2d28-41f2-8e53-b168ff8da3e0": {
     "id": "2d3120be-2d28-41f2-8e53-b168ff8da3e0",
     "prev": "84ecd2e3-1a42-4ba8-aa19-47a893ae21dd",
     "regions": {
      "5a984b25-0d4d-4fff-81ba-505a228795c4": {
       "attrs": {
        "height": 0.8,
        "width": 0.8,
        "x": 0.1,
        "y": 0.1
       },
       "content": {
        "cell": "cb2fd144-e59d-48e5-bfea-a5d5e6dbfd42",
        "part": "whole"
       },
       "id": "5a984b25-0d4d-4fff-81ba-505a228795c4"
      }
     }
    },
    "32307c0d-9587-4cb8-8822-b5eeba422040": {
     "id": "32307c0d-9587-4cb8-8822-b5eeba422040",
     "prev": "8b3d1d6f-c90d-4268-9c54-eadfd4f458c3",
     "regions": {
      "64c21e10-5872-4fea-bb53-1350cb18c69b": {
       "attrs": {
        "height": 0.8,
        "width": 0.8,
        "x": 0.1,
        "y": 0.1
       },
       "content": {
        "cell": "bc647040-f2d4-4dea-8d0e-e4adef32f7ec",
        "part": "whole"
       },
       "id": "64c21e10-5872-4fea-bb53-1350cb18c69b"
      }
     }
    },
    "44481ae5-799d-4f2e-8a9a-d9bd19ff755c": {
     "id": "44481ae5-799d-4f2e-8a9a-d9bd19ff755c",
     "prev": "8c9b43b4-5147-4e53-ae00-a87c16b0e10f",
     "regions": {
      "c721c365-a311-4d8b-bb8c-4d0738736ba7": {
       "attrs": {
        "height": 0.8,
        "width": 0.8,
        "x": 0.1,
        "y": 0.1
       },
       "content": {
        "cell": "0b9624c4-859f-476a-93d3-5216c2409f4e",
        "part": "whole"
       },
       "id": "c721c365-a311-4d8b-bb8c-4d0738736ba7"
      }
     }
    },
    "45aec6bd-bc22-4b4c-8093-d7877b9494fe": {
     "id": "45aec6bd-bc22-4b4c-8093-d7877b9494fe",
     "prev": "290a2c2d-d6e4-4064-ba60-2fa40bd5143c",
     "regions": {
      "6b666808-9a12-4885-ab22-37ca5f60bf7b": {
       "attrs": {
        "height": 0.8,
        "width": 0.8,
        "x": 0.1,
        "y": 0.1
       },
       "content": {
        "cell": "ec13bcce-8185-4702-a56f-2c50f8eebb8b",
        "part": "whole"
       },
       "id": "6b666808-9a12-4885-ab22-37ca5f60bf7b"
      }
     }
    },
    "527ea654-9470-4253-b907-f6440a6ffb93": {
     "id": "527ea654-9470-4253-b907-f6440a6ffb93",
     "prev": "cde170ea-9a1c-4b3b-9657-b4fc4e7191d8",
     "regions": {
      "ea50fe04-a910-4882-b5c6-0945ad88c842": {
       "attrs": {
        "height": 0.8,
        "width": 0.8,
        "x": 0.1,
        "y": 0.1
       },
       "content": {
        "cell": "fb03370e-bcbc-4b59-8a95-659e8df5d31c",
        "part": "whole"
       },
       "id": "ea50fe04-a910-4882-b5c6-0945ad88c842"
      }
     }
    },
    "53d1ef95-32c4-4eb0-9b21-c42de1b77cee": {
     "id": "53d1ef95-32c4-4eb0-9b21-c42de1b77cee",
     "prev": "6fb67eb3-dcd2-4c5d-bc4a-992d70511433",
     "regions": {
      "abb06c80-2a51-415e-8884-627e5d0ac0cc": {
       "attrs": {
        "height": 0.8,
        "width": 0.8,
        "x": 0.1,
        "y": 0.1
       },
       "content": {
        "cell": "4be46058-843e-401d-8897-311032566919",
        "part": "whole"
       },
       "id": "abb06c80-2a51-415e-8884-627e5d0ac0cc"
      }
     }
    },
    "55bac83b-4cfc-42c3-8e94-223b32e2e9e5": {
     "id": "55bac83b-4cfc-42c3-8e94-223b32e2e9e5",
     "prev": "c880101e-328f-45a8-9cd7-f6f21b8dcf64",
     "regions": {
      "0b7e374b-30c5-473f-9adc-72fa8ccbb470": {
       "attrs": {
        "height": 0.3296394019349165,
        "width": 0.33403693931398415,
        "x": 0.04591029023746703,
        "y": 0.0906185869246555
       },
       "content": {
        "cell": "f2c7610c-f9b0-4989-9307-83f8907acf57",
        "part": "whole"
       },
       "id": "0b7e374b-30c5-473f-9adc-72fa8ccbb470"
      },
      "2c91e9fc-7ccf-45be-ab75-45c7dcfd38b5": {
       "attrs": {
        "height": 0.36481970096745825,
        "width": 0.3300791556728232,
        "x": 0.0432717678100264,
        "y": 0.5140721196130167
       },
       "content": {
        "cell": "6f00499f-b2fc-4eaf-a649-39e93263c0d5",
        "part": "whole"
       },
       "id": "2c91e9fc-7ccf-45be-ab75-45c7dcfd38b5"
      },
      "65078240-0fd4-455f-b93f-9545845d1f43": {
       "attrs": {
        "height": 0.3343301084725887,
        "width": 0.5068601583113457,
        "x": 0.39313984168865435,
        "y": 0.1
       },
       "content": {
        "cell": "36e7fe38-a2ad-4204-9bef-17ecdd3cbbe4",
        "part": "whole"
       },
       "id": "65078240-0fd4-455f-b93f-9545845d1f43"
      },
      "efa6e997-740a-41c9-b4bd-053029e2da2f": {
       "attrs": {
        "height": 0.36481970096745825,
        "width": 0.5042216358839051,
        "x": 0.39577836411609496,
        "y": 0.5304895924948695
       },
       "content": {
        "cell": "4772a6a4-bc28-42ec-8a90-7ab42bf41dd4",
        "part": "whole"
       },
       "id": "efa6e997-740a-41c9-b4bd-053029e2da2f"
      }
     }
    },
    "6fb67eb3-dcd2-4c5d-bc4a-992d70511433": {
     "id": "6fb67eb3-dcd2-4c5d-bc4a-992d70511433",
     "prev": "b4b05496-6703-40f7-8689-9d0e889333ef",
     "regions": {
      "97163c88-2c70-44ea-a6ba-d81e48fe0845": {
       "attrs": {
        "height": 0.8,
        "width": 0.8,
        "x": 0.1,
        "y": 0.1
       },
       "content": {
        "cell": "5c133a4a-d58e-441f-b3a0-99198670c1b3",
        "part": "whole"
       },
       "id": "97163c88-2c70-44ea-a6ba-d81e48fe0845"
      }
     }
    },
    "7a3abc92-618c-4bdf-8d6a-020ed7aa760a": {
     "id": "7a3abc92-618c-4bdf-8d6a-020ed7aa760a",
     "prev": "88734387-b043-4075-9425-95c395b8db49",
     "regions": {
      "7699feb7-5f9e-4bc1-8d99-a74089f0e80d": {
       "attrs": {
        "height": 0.8,
        "width": 0.8,
        "x": 0.1,
        "y": 0.1
       },
       "content": {
        "cell": "c4408c93-5673-4739-9265-9b024eab857b",
        "part": "whole"
       },
       "id": "7699feb7-5f9e-4bc1-8d99-a74089f0e80d"
      }
     }
    },
    "7bda9e4b-174b-4e04-8e8d-33f1dd9d5726": {
     "id": "7bda9e4b-174b-4e04-8e8d-33f1dd9d5726",
     "prev": "44481ae5-799d-4f2e-8a9a-d9bd19ff755c",
     "regions": {
      "b7854807-16a6-4f39-b8c8-b5b5ee530fc7": {
       "attrs": {
        "height": 0.8,
        "width": 0.8,
        "x": 0.1,
        "y": 0.1
       },
       "content": {
        "cell": "e58eabf2-7ab8-4fc7-a68b-eb9df66d6c88",
        "part": "whole"
       },
       "id": "b7854807-16a6-4f39-b8c8-b5b5ee530fc7"
      }
     }
    },
    "7ead7e7e-bf04-4a2b-a7d7-97dcaef1d5fb": {
     "id": "7ead7e7e-bf04-4a2b-a7d7-97dcaef1d5fb",
     "prev": "f2f309e7-2615-434e-8901-cd533abadd5d",
     "regions": {
      "5687a715-5838-4d4c-9582-3bac70a236ad": {
       "attrs": {
        "height": 0.8,
        "width": 0.8,
        "x": 0.1,
        "y": 0.1
       },
       "content": {
        "cell": "31d0155e-516a-4f26-a7f4-2ce8ecb6699b",
        "part": "whole"
       },
       "id": "5687a715-5838-4d4c-9582-3bac70a236ad"
      }
     }
    },
    "840d0eb6-3afd-4e43-9350-801fd23f1807": {
     "id": "840d0eb6-3afd-4e43-9350-801fd23f1807",
     "prev": "7bda9e4b-174b-4e04-8e8d-33f1dd9d5726",
     "regions": {
      "3b26005f-564a-41b9-b053-5096a5cdf0fd": {
       "attrs": {
        "height": 0.8,
        "width": 0.8,
        "x": 0.1,
        "y": 0.1
       },
       "content": {
        "cell": "04ca36b7-4020-4828-bb95-2d5962decc84",
        "part": "whole"
       },
       "id": "3b26005f-564a-41b9-b053-5096a5cdf0fd"
      }
     }
    },
    "84ecd2e3-1a42-4ba8-aa19-47a893ae21dd": {
     "id": "84ecd2e3-1a42-4ba8-aa19-47a893ae21dd",
     "prev": "7a3abc92-618c-4bdf-8d6a-020ed7aa760a",
     "regions": {
      "ce92e872-40d9-492a-9ecb-afb5e96d5aaf": {
       "attrs": {
        "height": 0.8,
        "width": 0.8,
        "x": 0.1,
        "y": 0.1
       },
       "content": {
        "cell": "13b6df79-5319-43f7-8a78-65eff9242303",
        "part": "whole"
       },
       "id": "ce92e872-40d9-492a-9ecb-afb5e96d5aaf"
      }
     }
    },
    "88734387-b043-4075-9425-95c395b8db49": {
     "id": "88734387-b043-4075-9425-95c395b8db49",
     "prev": "32307c0d-9587-4cb8-8822-b5eeba422040",
     "regions": {
      "35b778cc-9a08-4b2b-83cc-2b2410c3dbc5": {
       "attrs": {
        "height": 0.8,
        "width": 0.8,
        "x": 0.1,
        "y": 0.1
       },
       "content": {
        "cell": "05037c26-3934-4950-9003-51248cf482a4",
        "part": "whole"
       },
       "id": "35b778cc-9a08-4b2b-83cc-2b2410c3dbc5"
      }
     }
    },
    "8b3d1d6f-c90d-4268-9c54-eadfd4f458c3": {
     "id": "8b3d1d6f-c90d-4268-9c54-eadfd4f458c3",
     "prev": "a3adc74a-c182-4b56-bf32-7951ef8fab8d",
     "regions": {
      "8896fd0f-83c6-4730-a83a-3e00b38dd88e": {
       "attrs": {
        "height": 0.8,
        "width": 0.8,
        "x": 0.1,
        "y": 0.1
       },
       "content": {
        "cell": "8913f133-a899-4d7a-aed7-4f9c84411ee8",
        "part": "whole"
       },
       "id": "8896fd0f-83c6-4730-a83a-3e00b38dd88e"
      }
     }
    },
    "8c9b43b4-5147-4e53-ae00-a87c16b0e10f": {
     "id": "8c9b43b4-5147-4e53-ae00-a87c16b0e10f",
     "prev": "45aec6bd-bc22-4b4c-8093-d7877b9494fe",
     "regions": {
      "fa80ab38-8786-4847-8f14-1506af132e7f": {
       "attrs": {
        "height": 0.8,
        "width": 0.8,
        "x": 0.1,
        "y": 0.1
       },
       "content": {
        "cell": "67c9d1c1-7ab5-4bc7-a6b8-b02742e62254",
        "part": "whole"
       },
       "id": "fa80ab38-8786-4847-8f14-1506af132e7f"
      }
     }
    },
    "a3adc74a-c182-4b56-bf32-7951ef8fab8d": {
     "id": "a3adc74a-c182-4b56-bf32-7951ef8fab8d",
     "prev": "08f3ddbc-293d-45ba-b1cd-8e05fff6ed36",
     "regions": {
      "185e81c0-1939-4ef2-84b7-78518e0b654e": {
       "attrs": {
        "height": 0.8,
        "width": 0.8,
        "x": 0.1,
        "y": 0.1
       },
       "content": {
        "cell": "58341fe8-7b5e-4888-af38-d1743a1b4353",
        "part": "whole"
       },
       "id": "185e81c0-1939-4ef2-84b7-78518e0b654e"
      }
     }
    },
    "b4b05496-6703-40f7-8689-9d0e889333ef": {
     "id": "b4b05496-6703-40f7-8689-9d0e889333ef",
     "prev": "7ead7e7e-bf04-4a2b-a7d7-97dcaef1d5fb",
     "regions": {
      "f7f32d4b-ac65-49cd-892d-b78960c66918": {
       "attrs": {
        "height": 0.8,
        "width": 0.8,
        "x": 0.1,
        "y": 0.1
       },
       "content": {
        "cell": "0270e547-49b9-41bd-8a53-c2af0340788e",
        "part": "whole"
       },
       "id": "f7f32d4b-ac65-49cd-892d-b78960c66918"
      }
     }
    },
    "ba33f861-b7f7-4236-a5d0-555b289eeeae": {
     "id": "ba33f861-b7f7-4236-a5d0-555b289eeeae",
     "prev": "1c83a5fd-62ce-4ebd-94fa-7e12f351dd27",
     "regions": {
      "5430d54a-c92c-4cca-a4b9-0caaed738875": {
       "attrs": {
        "height": 0.8,
        "width": 0.8,
        "x": 0.1,
        "y": 0.1
       },
       "content": {
        "cell": "5b25b7e6-ff48-4c3f-a615-f68e70b7a5db",
        "part": "whole"
       },
       "id": "5430d54a-c92c-4cca-a4b9-0caaed738875"
      }
     }
    },
    "c880101e-328f-45a8-9cd7-f6f21b8dcf64": {
     "id": "c880101e-328f-45a8-9cd7-f6f21b8dcf64",
     "prev": null,
     "regions": {
      "e479c569-1420-4a58-99c0-20bf1b574f2b": {
       "attrs": {
        "height": 0.8,
        "width": 0.8,
        "x": 0.1,
        "y": 0.1
       },
       "content": {
        "cell": "8a7447ef-64dc-4e8b-ae5c-b563b2bc2faf",
        "part": "source"
       },
       "id": "e479c569-1420-4a58-99c0-20bf1b574f2b"
      }
     }
    },
    "ca0b3728-ae13-449f-87f2-4a998b68c90a": {
     "id": "ca0b3728-ae13-449f-87f2-4a998b68c90a",
     "prev": "ba33f861-b7f7-4236-a5d0-555b289eeeae",
     "regions": {
      "8f91fc19-2f90-4446-9df8-a5ff2779dcf8": {
       "attrs": {
        "height": 0.8,
        "width": 0.8,
        "x": 0.1,
        "y": 0.1
       },
       "content": {
        "cell": "d08ca7ca-3347-408a-afd0-5e8b1c414250",
        "part": "whole"
       },
       "id": "8f91fc19-2f90-4446-9df8-a5ff2779dcf8"
      }
     }
    },
    "cde170ea-9a1c-4b3b-9657-b4fc4e7191d8": {
     "id": "cde170ea-9a1c-4b3b-9657-b4fc4e7191d8",
     "prev": "ef109871-5d8a-4c88-96c2-3154d969c23b",
     "regions": {
      "34468221-072d-4f7c-a59b-b8ead14a7094": {
       "attrs": {
        "height": 0.8,
        "width": 0.8,
        "x": 0.1,
        "y": 0.1
       },
       "content": {
        "cell": "13f3063f-6f53-4d2b-bc1e-43f4be5e1eeb",
        "part": "whole"
       },
       "id": "34468221-072d-4f7c-a59b-b8ead14a7094"
      }
     }
    },
    "d02b4f15-7d6e-4c7e-93b8-6270c53b23df": {
     "id": "d02b4f15-7d6e-4c7e-93b8-6270c53b23df",
     "prev": "527ea654-9470-4253-b907-f6440a6ffb93",
     "regions": {
      "5192188d-c1f3-485c-b26b-f785241ff818": {
       "attrs": {
        "height": 0.8,
        "width": 0.8,
        "x": 0.1,
        "y": 0.1
       },
       "content": {
        "cell": "5d243094-1317-44ef-8e7b-bf4cdd2673f4",
        "part": "whole"
       },
       "id": "5192188d-c1f3-485c-b26b-f785241ff818"
      }
     }
    },
    "e3c8897b-7a8a-494c-a630-061d47760601": {
     "id": "e3c8897b-7a8a-494c-a630-061d47760601",
     "prev": "ca0b3728-ae13-449f-87f2-4a998b68c90a",
     "regions": {
      "20307749-4f78-4096-a211-111d33a19f76": {
       "attrs": {
        "height": 0.8,
        "width": 0.8,
        "x": 0.1,
        "y": 0.1
       },
       "content": {
        "cell": "bd5c5868-06be-4826-a531-461e3688ecbf",
        "part": "whole"
       },
       "id": "20307749-4f78-4096-a211-111d33a19f76"
      }
     }
    },
    "ef109871-5d8a-4c88-96c2-3154d969c23b": {
     "id": "ef109871-5d8a-4c88-96c2-3154d969c23b",
     "layout": "grid",
     "prev": "55bac83b-4cfc-42c3-8e94-223b32e2e9e5",
     "regions": {}
    },
    "f2f309e7-2615-434e-8901-cd533abadd5d": {
     "id": "f2f309e7-2615-434e-8901-cd533abadd5d",
     "prev": "0cf10881-69f2-4d6d-bfdf-4d2ec3c86ce0",
     "regions": {
      "0010a397-4a75-46cb-b68a-7355a015d09e": {
       "attrs": {
        "height": 0.8,
        "width": 0.8,
        "x": 0.1,
        "y": 0.1
       },
       "content": {
        "cell": "d5cf6da0-cfac-4c5a-974d-ba087c3ff29f",
        "part": "whole"
       },
       "id": "0010a397-4a75-46cb-b68a-7355a015d09e"
      }
     }
    }
   },
   "themes": {
    "default": "26a1d427-68c2-4b80-ac7f-dc63f5344d14",
    "theme": {
     "26a1d427-68c2-4b80-ac7f-dc63f5344d14": {
      "id": "26a1d427-68c2-4b80-ac7f-dc63f5344d14",
      "palette": {
       "19cc588f-0593-49c9-9f4b-e4d7cc113b1c": {
        "id": "19cc588f-0593-49c9-9f4b-e4d7cc113b1c",
        "rgb": [
         252,
         252,
         252
        ]
       },
       "31af15d2-7e15-44c5-ab5e-e04b16a89eff": {
        "id": "31af15d2-7e15-44c5-ab5e-e04b16a89eff",
        "rgb": [
         68,
         68,
         68
        ]
       },
       "50f92c45-a630-455b-aec3-788680ec7410": {
        "id": "50f92c45-a630-455b-aec3-788680ec7410",
        "rgb": [
         155,
         177,
         192
        ]
       },
       "c5cc3653-2ee1-402a-aba2-7caae1da4f6c": {
        "id": "c5cc3653-2ee1-402a-aba2-7caae1da4f6c",
        "rgb": [
         43,
         126,
         184
        ]
       },
       "efa7f048-9acb-414c-8b04-a26811511a21": {
        "id": "efa7f048-9acb-414c-8b04-a26811511a21",
        "rgb": [
         25.118061674008803,
         73.60176211453744,
         107.4819383259912
        ]
       }
      },
      "rules": {
       "blockquote": {
        "color": "50f92c45-a630-455b-aec3-788680ec7410"
       },
       "code": {
        "font-family": "Anonymous Pro"
       },
       "h1": {
        "color": "c5cc3653-2ee1-402a-aba2-7caae1da4f6c",
        "font-family": "Lato",
        "font-size": 8
       },
       "h2": {
        "color": "c5cc3653-2ee1-402a-aba2-7caae1da4f6c",
        "font-family": "Lato",
        "font-size": 6
       },
       "h3": {
        "color": "50f92c45-a630-455b-aec3-788680ec7410",
        "font-family": "Lato",
        "font-size": 5.5
       },
       "h4": {
        "color": "c5cc3653-2ee1-402a-aba2-7caae1da4f6c",
        "font-family": "Lato",
        "font-size": 5
       },
       "h5": {
        "font-family": "Lato"
       },
       "h6": {
        "font-family": "Lato"
       },
       "h7": {
        "font-family": "Lato"
       },
       "pre": {
        "font-family": "Anonymous Pro",
        "font-size": 4
       }
      },
      "text-base": {
       "font-family": "Merriweather",
       "font-size": 4
      }
     }
    }
   }
  }
 },
 "nbformat": 4,
 "nbformat_minor": 2
}
